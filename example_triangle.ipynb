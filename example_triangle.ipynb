{
 "cells": [
  {
   "cell_type": "markdown",
   "metadata": {},
   "source": [
    "# *lsforce* example script: Triangle parameterization\n",
    "---\n",
    "\n",
    "This example script produces the force-time function for a very large landslide occurring near Attabad Lake in Pakistan on 4 January 2010 (Ekström & Stark, 2013). Here, we use the \"triangle\" model vector parameterization method, which constructs the force-time function from a series of overlapping triangles of a specified half-width.\n",
    "\n",
    "**References**\n",
    "\n",
    "Ekström, G., & Stark, C. P. (2013). Simple Scaling of Catastrophic Landslide Dynamics. *Science, 339(6126)*, 1416–1419. https://doi.org/10.1126/science.1232887"
   ]
  },
  {
   "cell_type": "markdown",
   "metadata": {},
   "source": [
    "### Import necessary modules"
   ]
  },
  {
   "cell_type": "code",
   "execution_count": null,
   "metadata": {},
   "outputs": [],
   "source": [
    "import os\n",
    "\n",
    "from obspy import UTCDateTime, read\n",
    "from obspy.clients.fdsn import Client\n",
    "\n",
    "from lsforce import LSData, LSForce\n",
    "\n",
    "# Ignore benign Matplotlib backend warning due to fig.show()\n",
    "import warnings\n",
    "warnings.filterwarnings(action='ignore', message='Matplotlib is currently using module')"
   ]
  },
  {
   "cell_type": "markdown",
   "metadata": {},
   "source": [
    "### Define some constants, set up folder structure"
   ]
  },
  {
   "cell_type": "code",
   "execution_count": null,
   "metadata": {},
   "outputs": [],
   "source": [
    "# Arbitrary run directory\n",
    "LSFORCE_RUN_DIR = os.getcwd()\n",
    "\n",
    "RUN_NAME = 'hunza_attabad'  # Nickname for this run\n",
    "\n",
    "PERIOD_RANGE = (50, 150)  # [s] Bandpass filter corners\n",
    "\n",
    "LS_LAT, LS_LON = (36.31, 74.82)  # Where the point force will be applied\n",
    "ORIGIN_TIME = UTCDateTime(2010, 1, 4, 8, 36)  # From Ekström supp table\n",
    "\n",
    "STARTTIME = ORIGIN_TIME - 100\n",
    "ENDTIME = ORIGIN_TIME + 600\n",
    "\n",
    "# Set up folder structure\n",
    "main_folder = os.path.join(LSFORCE_RUN_DIR, RUN_NAME)\n",
    "if not os.path.exists(main_folder):\n",
    "    os.mkdir(main_folder)"
   ]
  },
  {
   "cell_type": "markdown",
   "metadata": {},
   "source": [
    "### Gather inversion waveforms"
   ]
  },
  {
   "cell_type": "code",
   "execution_count": null,
   "metadata": {
    "pycharm": {
     "name": "#%%\n"
    },
    "scrolled": false
   },
   "outputs": [],
   "source": [
    "data_filename = os.path.join(main_folder, f'{RUN_NAME}_data.pkl')\n",
    "\n",
    "# Download data if it doesn't exist as a file\n",
    "if not os.path.exists(data_filename):\n",
    "\n",
    "    client = Client('IRIS')\n",
    "    waveform_kwargs = dict(\n",
    "        channel='BHE,BHN,BHZ',\n",
    "        location='00,',\n",
    "        starttime=STARTTIME,\n",
    "        endtime=ENDTIME,\n",
    "        attach_response=True,\n",
    "    )\n",
    "\n",
    "    NETWORKS = (\n",
    "        'II',\n",
    "        'IU',\n",
    "        'KN',\n",
    "    )\n",
    "    STATIONS = (\n",
    "        'KBL',\n",
    "        'KZA',\n",
    "        'AAK',\n",
    "        'EKS2',\n",
    "    )\n",
    "    st = client.get_waveforms(\n",
    "        network=','.join(NETWORKS), station=','.join(STATIONS), **waveform_kwargs,\n",
    "    )\n",
    "\n",
    "    # Remove extra channels for station AAK\n",
    "    for tr in st.select(station='AAK', location=''):\n",
    "        st.remove(tr)\n",
    "\n",
    "    # Remove horizontals\n",
    "    for station in ['KZA', 'EKS2']:\n",
    "        for tr in st.select(station=station, component='[EN]'):\n",
    "            st.remove(tr)\n",
    "\n",
    "    # Grab coordinates\n",
    "    inv = client.get_stations(\n",
    "        network=','.join(NETWORKS),\n",
    "        starttime=STARTTIME,\n",
    "        endtime=ENDTIME,\n",
    "        level='channel',\n",
    "    )\n",
    "\n",
    "    # Assign coordinates to Traces\n",
    "    for tr in st:\n",
    "        coords = inv.get_coordinates(tr.id, datetime=STARTTIME)\n",
    "        tr.stats.latitude = coords['latitude']\n",
    "        tr.stats.longitude = coords['longitude']\n",
    "\n",
    "    st.write(data_filename, format='PICKLE')\n",
    "\n",
    "# Use file if it exists, for speed\n",
    "else:\n",
    "    st = read(data_filename, format='PICKLE')\n",
    "\n",
    "# Create LSData object\n",
    "data = LSData(st, source_lat=LS_LAT, source_lon=LS_LON)\n",
    "\n",
    "# Detrend and taper intensively!\n",
    "data.st_proc.detrend('polynomial', order=12)\n",
    "data.st_proc.taper(0.3)\n",
    "\n",
    "# Now that it's rotated, remove some radial components\n",
    "for station in ['ABKT', 'KIV', 'ANTO']:\n",
    "    for tr in data.st_proc.select(station=station, component='R'):\n",
    "        data.st_proc.remove(tr)\n",
    "\n",
    "# Remove additional stations\n",
    "for tr in data.st_proc.select(station='ANTO', component='Z'):\n",
    "    data.st_proc.remove(tr)\n",
    "for tr in data.st_proc.select(station='ABKT', component='T'):\n",
    "    data.st_proc.remove(tr)\n",
    "for tr in data.st_proc.select(station='KIV', component='T'):\n",
    "    data.st_proc.remove(tr)\n",
    "\n",
    "# Create plots\n",
    "data.plot_stations(label_stations=True, gshhs_scale='intermediate');\n",
    "data.plot_data(equal_scale=True, period_range=PERIOD_RANGE);"
   ]
  },
  {
   "cell_type": "markdown",
   "metadata": {},
   "source": [
    "### Setup"
   ]
  },
  {
   "cell_type": "code",
   "execution_count": null,
   "metadata": {
    "pycharm": {
     "name": "#%%\n"
    }
   },
   "outputs": [],
   "source": [
    "force = LSForce(\n",
    "    data=data,\n",
    "    data_sampling_rate=1,\n",
    "    nickname=RUN_NAME,\n",
    "    main_folder=main_folder,\n",
    "    method='triangle',\n",
    ")\n",
    "\n",
    "force.setup(\n",
    "    period_range=PERIOD_RANGE,\n",
    "    zerophase=True,\n",
    "    syngine_model='iasp91_2s',\n",
    "    triangle_half_width=10,\n",
    ")"
   ]
  },
  {
   "cell_type": "markdown",
   "metadata": {},
   "source": [
    "### Invert"
   ]
  },
  {
   "cell_type": "code",
   "execution_count": null,
   "metadata": {
    "pycharm": {
     "name": "#%%\n"
    }
   },
   "outputs": [],
   "source": [
    "force.invert(\n",
    "    zero_time=150,\n",
    "    max_duration=65,\n",
    "    impose_zero=True,\n",
    "    add_to_zero=True,\n",
    "    alphaset=3.6e-18,\n",
    "    zero_scaler=1,\n",
    "    tikhonov_ratios=(0, 0, 1),\n",
    ")"
   ]
  },
  {
   "cell_type": "markdown",
   "metadata": {},
   "source": [
    "### Plot inversion"
   ]
  },
  {
   "cell_type": "code",
   "execution_count": null,
   "metadata": {
    "pycharm": {
     "name": "#%%\n"
    }
   },
   "outputs": [],
   "source": [
    "# Plot waveform fits\n",
    "force.plot_fits();\n",
    "\n",
    "# Plot results\n",
    "force.plot_forces(xlim=[-50, 150]);"
   ]
  }
 ],
 "metadata": {
  "kernelspec": {
   "display_name": "Python 3",
   "language": "python",
   "name": "python3"
  },
  "language_info": {
   "codemirror_mode": {
    "name": "ipython",
    "version": 3
   },
   "file_extension": ".py",
   "mimetype": "text/x-python",
   "name": "python",
   "nbconvert_exporter": "python",
   "pygments_lexer": "ipython3",
   "version": "3.8.3"
  }
 },
 "nbformat": 4,
 "nbformat_minor": 1
}
