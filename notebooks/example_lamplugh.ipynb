{
 "cells": [
  {
   "cell_type": "markdown",
   "metadata": {},
   "source": [
    "# *lsforce* example script: 2016 Lamplugh rock avalanche\n",
    "---\n",
    "\n",
    "This example notebook uses *lsforce* to invert for the force-time function of the 28 June 2016 Lamplugh rock avalanche in Glacier Bay National Park, Alaska (Bessette-Kirton et al., 2018; Dufresne et al., 2019). The notebook walks through data collection and creation of all three major *lsforce* objects: `LSData`, `LSForce`, and `LSTrajectory`. The latter two objects are created twice, once each for the \"full\" parameterization method (`method='full'`) and the \"triangle\" parameterization method (`method='triangle'`).\n",
    "\n",
    "**References**\n",
    "\n",
    "<p>\n",
    "<div style=\"text-indent:-36px; padding-left:36px;\">\n",
    "<p>\n",
    "Bessette-Kirton, E. K., Coe, J. A., & Zhou, W. (2018). Using stereo satellite imagery to account for ablation, entrainment, and compaction in volume calculations for rock avalanches on glaciers: application to the 2016 Lamplugh rock avalanche in Glacier Bay National Park, Alaska. <em>Journal of Geophysical Research: Earth Surface, 123</em>(4), 622–641. <a href=\"https://doi.org/10.1002/2017JF004512\">https://doi.org/10.1002/2017JF004512</a>\n",
    "</p>\n",
    "<p>\n",
    "Dufresne, A., Wolken, G. J., Hibert, C., Bessette-Kirton, E. K., Coe, J. A., Geertsema, M., & Ekström, G. (2019). The 2016 Lamplugh rock avalanche, Alaska: deposit structures and emplacement dynamics. <em>Landslides, 16</em>(12), 2301–2319. <a href=\"https://doi.org/10.1007/s10346-019-01225-4\">https://doi.org/10.1007/s10346-019-01225-4</a>\n",
    "</p>\n",
    "</div>"
   ]
  },
  {
   "cell_type": "markdown",
   "metadata": {},
   "source": [
    "### Import necessary modules"
   ]
  },
  {
   "cell_type": "code",
   "execution_count": null,
   "metadata": {},
   "outputs": [],
   "source": [
    "from pathlib import Path\n",
    "\n",
    "from obspy import UTCDateTime, read\n",
    "from obspy.clients.fdsn import Client\n",
    "from obspy.geodetics import gps2dist_azimuth\n",
    "\n",
    "from lsforce import LSData, LSForce, LSTrajectory\n",
    "\n",
    "# Ignore benign Matplotlib backend warning due to fig.show()\n",
    "import warnings\n",
    "warnings.filterwarnings(action='ignore', message='Matplotlib is currently using module')"
   ]
  },
  {
   "cell_type": "markdown",
   "metadata": {},
   "source": [
    "### Define some constants, set up folder structure"
   ]
  },
  {
   "cell_type": "code",
   "execution_count": null,
   "metadata": {},
   "outputs": [],
   "source": [
    "PERIOD_RANGE = (10, 200)  # [s] Bandpass filter corners\n",
    "\n",
    "LS_LAT, LS_LON = (58.7371, -136.8943)  # Guesstimate from Google Earth + lamplugh.tif\n",
    "ORIGIN_TIME = UTCDateTime(2016, 6, 28, 16, 21, 3)\n",
    "\n",
    "STARTTIME = ORIGIN_TIME - 150\n",
    "ENDTIME = UTCDateTime(2016, 6, 28, 16, 26, 6) + 150\n",
    "\n",
    "# Set up folder structure\n",
    "main_folder = Path.cwd() / 'lamplugh'\n",
    "if not main_folder.exists():\n",
    "    main_folder.mkdir()"
   ]
  },
  {
   "cell_type": "markdown",
   "metadata": {},
   "source": [
    "### Gather inversion waveforms"
   ]
  },
  {
   "cell_type": "code",
   "execution_count": null,
   "metadata": {
    "scrolled": false
   },
   "outputs": [],
   "source": [
    "data_filename = main_folder / 'data.pkl'\n",
    "\n",
    "# Download data if it doesn't exist as a file\n",
    "if not data_filename.exists():\n",
    "\n",
    "    client = Client('IRIS')\n",
    "    waveform_kwargs = dict(\n",
    "        location='', starttime=STARTTIME, endtime=ENDTIME, attach_response=True\n",
    "    )\n",
    "\n",
    "    # Gather waveforms\n",
    "    NETWORKS = ('AK', 'AT', 'CN', 'TA')\n",
    "    STATIONS = ('SKAG', 'BESE', 'P30M', 'JIS', 'PNL', 'YKU2', 'PLBC', 'SIT')\n",
    "    st = client.get_waveforms(\n",
    "        network=','.join(NETWORKS),\n",
    "        station=','.join(STATIONS),\n",
    "        channel='BH?,HH?',\n",
    "        **waveform_kwargs,\n",
    "    )\n",
    "\n",
    "    # Grab coordinates\n",
    "    inv = client.get_stations(\n",
    "        network=','.join(NETWORKS),\n",
    "        starttime=STARTTIME,\n",
    "        endtime=ENDTIME,\n",
    "        level='channel',\n",
    "    )\n",
    "\n",
    "    # Assign coordinates to Traces\n",
    "    for tr in st:\n",
    "        coords = inv.get_coordinates(tr.id, datetime=STARTTIME)\n",
    "        tr.stats.latitude = coords['latitude']\n",
    "        tr.stats.longitude = coords['longitude']\n",
    "\n",
    "    st.write(str(data_filename), format='PICKLE')\n",
    "\n",
    "# Use file if it exists, for speed\n",
    "else:\n",
    "    st = read(str(data_filename), format='PICKLE')\n",
    "\n",
    "# Create LSData object\n",
    "data = LSData(st, source_lat=LS_LAT, source_lon=LS_LON)\n",
    "\n",
    "# Remove some noisy horizontals\n",
    "for station in 'BESE', 'PNL', 'YKU2':\n",
    "    for tr in data.st_proc.select(station=station, component='[RT]'):\n",
    "        data.st_proc.remove(tr)\n",
    "for tr in data.st_proc.select(station='SKAG', component='R'):\n",
    "    data.st_proc.remove(tr)\n",
    "\n",
    "# Create plots\n",
    "data.plot_stations(label_stations=True, gshhs_scale='h');\n",
    "data.plot_data(period_range=PERIOD_RANGE);"
   ]
  },
  {
   "cell_type": "markdown",
   "metadata": {},
   "source": [
    "### Gather reference waveform"
   ]
  },
  {
   "cell_type": "code",
   "execution_count": null,
   "metadata": {},
   "outputs": [],
   "source": [
    "SEISMIC_VELO = 2.5  # [km/s] For travel time removal\n",
    "\n",
    "KM_PER_M = 1 / 1000  # [km/m]\n",
    "\n",
    "client = Client('IRIS')\n",
    "\n",
    "# Gather a single trace\n",
    "tr_hf = client.get_waveforms(\n",
    "    network='CN',\n",
    "    station='PLBC',\n",
    "    location='',\n",
    "    channel='HHZ',\n",
    "    starttime=STARTTIME,\n",
    "    endtime=ENDTIME,\n",
    "    attach_response=True,\n",
    ")[0]\n",
    "\n",
    "# Processing\n",
    "tr_hf.remove_response()\n",
    "tr_hf.detrend('demean')\n",
    "tr_hf.taper(max_percentage=0.05)\n",
    "tr_hf.filter('bandpass', freqmin=0.5, freqmax=5)\n",
    "\n",
    "# Add \"distance\" to tr.stats\n",
    "ref_inv = client.get_stations(\n",
    "    network=tr_hf.stats.network,\n",
    "    station=tr_hf.stats.station,\n",
    "    starttime=STARTTIME,\n",
    "    endtime=ENDTIME,\n",
    "    level='channel',\n",
    ")\n",
    "coords = ref_inv.get_coordinates(tr_hf.id, datetime=STARTTIME)\n",
    "tr_hf.stats.latitude = coords['latitude']\n",
    "tr_hf.stats.longitude = coords['longitude']\n",
    "dist = gps2dist_azimuth(LS_LAT, LS_LON, tr_hf.stats.latitude, tr_hf.stats.longitude)[0]  # [m]\n",
    "tr_hf.stats.distance = dist * KM_PER_M  # [km]\n",
    "\n",
    "# Approximate correction for travel time\n",
    "hf_shift = tr_hf.stats.distance / SEISMIC_VELO"
   ]
  },
  {
   "cell_type": "markdown",
   "metadata": {},
   "source": [
    "### Setup both full and triangle parameterization methods"
   ]
  },
  {
   "cell_type": "code",
   "execution_count": null,
   "metadata": {},
   "outputs": [],
   "source": [
    "INIT_KWARGS = dict(data=data, data_sampling_rate=1, main_folder=main_folder)\n",
    "\n",
    "force_full = LSForce(**INIT_KWARGS)\n",
    "force_triangle = LSForce(method='triangle', **INIT_KWARGS)\n",
    "\n",
    "SETUP_KWARGS = dict(\n",
    "    period_range=PERIOD_RANGE,\n",
    "    zerophase=True,\n",
    "    syngine_model='iasp91_2s',\n",
    "    weights='prenoise',\n",
    "    noise_window_dur=150,\n",
    ")\n",
    "\n",
    "force_full.setup(**SETUP_KWARGS)\n",
    "force_triangle.setup(**SETUP_KWARGS, triangle_half_width=5)"
   ]
  },
  {
   "cell_type": "markdown",
   "metadata": {},
   "source": [
    "### Invert both"
   ]
  },
  {
   "cell_type": "code",
   "execution_count": null,
   "metadata": {},
   "outputs": [],
   "source": [
    "INVERT_KWARGS = dict(\n",
    "    zero_time=146,\n",
    "    impose_zero_start=True,\n",
    "    add_to_zero=True,\n",
    "    jackknife=True,\n",
    "    num_iter=20,\n",
    "    frac_delete=0.25,\n",
    "    tikhonov_ratios=(0, 0, 1),\n",
    "    zero_scaler=10,\n",
    ")\n",
    "\n",
    "force_full.invert(alpha=2.8e-16, **INVERT_KWARGS)\n",
    "force_triangle.invert(alpha=2.8e-17, **INVERT_KWARGS)"
   ]
  },
  {
   "cell_type": "markdown",
   "metadata": {},
   "source": [
    "### Plot inversion results"
   ]
  },
  {
   "cell_type": "code",
   "execution_count": null,
   "metadata": {
    "scrolled": false
   },
   "outputs": [],
   "source": [
    "XLIM = (-20, 100)  # [s] x-axis (time) limits for plots\n",
    "\n",
    "for force in force_full, force_triangle:\n",
    "    force.plot_fits(xlim=(-50, 200), equal_scale=False);\n",
    "    force.plot_forces(highf_tr=tr_hf, hfshift=hf_shift, jackshowall=True, xlim=XLIM);\n",
    "    force.plot_angle_magnitude(xlim=XLIM);"
   ]
  },
  {
   "cell_type": "markdown",
   "metadata": {},
   "source": [
    "### Compute trajectories"
   ]
  },
  {
   "cell_type": "code",
   "execution_count": null,
   "metadata": {},
   "outputs": [],
   "source": [
    "L = 4  # [km] Estimate of horizontal COM runout length\n",
    "DURATION = 100  # [s] Duration to use for trajectory integration\n",
    "\n",
    "TRAJECTORY_KWARGS = dict(target_length=L, duration=DURATION, detrend_velocity=DURATION)\n",
    "\n",
    "trajectory_full = LSTrajectory(force_full, **TRAJECTORY_KWARGS)\n",
    "trajectory_triangle = LSTrajectory(force_triangle, **TRAJECTORY_KWARGS)"
   ]
  },
  {
   "cell_type": "markdown",
   "metadata": {},
   "source": [
    "### Plot trajectories"
   ]
  },
  {
   "cell_type": "code",
   "execution_count": null,
   "metadata": {},
   "outputs": [],
   "source": [
    "for trajectory in trajectory_full, trajectory_triangle:\n",
    "    trajectory.plot_trajectory(plot_jackknife=True);  # Horizontal trajectory\n",
    "    trajectory.plot_trajectory(plot_jackknife=True, elevation_profile=True);  # Vertical trajectory"
   ]
  }
 ],
 "metadata": {
  "kernelspec": {
   "display_name": "Python 3",
   "language": "python",
   "name": "python3"
  },
  "language_info": {
   "codemirror_mode": {
    "name": "ipython",
    "version": 3
   },
   "file_extension": ".py",
   "mimetype": "text/x-python",
   "name": "python",
   "nbconvert_exporter": "python",
   "pygments_lexer": "ipython3",
   "version": "3.7.8"
  }
 },
 "nbformat": 4,
 "nbformat_minor": 4
}
