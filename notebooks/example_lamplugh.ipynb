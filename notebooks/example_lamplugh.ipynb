{
 "cells": [
  {
   "cell_type": "markdown",
   "metadata": {},
   "source": [
    "# *lsforce* example script: 2016 Lamplugh Glacier rock avalanche\n",
    "---\n",
    "\n",
    "This example script <span style=\"color:red\">blah blah</span>\n",
    "\n",
    "**References**\n",
    "\n",
    "<span style=\"color:red\">Blah blah</span>"
   ]
  },
  {
   "cell_type": "markdown",
   "metadata": {},
   "source": [
    "### Import necessary modules"
   ]
  },
  {
   "cell_type": "code",
   "execution_count": null,
   "metadata": {},
   "outputs": [],
   "source": [
    "import os\n",
    "\n",
    "from obspy import UTCDateTime, read\n",
    "from obspy.clients.fdsn import Client\n",
    "from obspy.geodetics import gps2dist_azimuth\n",
    "\n",
    "from lsforce import LSData, LSForce, LSTrajectory\n",
    "\n",
    "# Ignore benign Matplotlib backend warning due to fig.show()\n",
    "import warnings\n",
    "warnings.filterwarnings(action='ignore', message='Matplotlib is currently using module')"
   ]
  },
  {
   "cell_type": "markdown",
   "metadata": {},
   "source": [
    "### Define some constants, set up folder structure"
   ]
  },
  {
   "cell_type": "code",
   "execution_count": null,
   "metadata": {},
   "outputs": [],
   "source": [
    "RUN_NAME = 'lamplugh'  # Nickname for this run\n",
    "\n",
    "PERIOD_RANGE = (10, 200)  # [s] Bandpass filter corners\n",
    "\n",
    "LS_LAT, LS_LON = (58.7371, -136.8943)  # Guesstimate from Google Earth + lamplugh.tif\n",
    "ORIGIN_TIME = UTCDateTime(2016, 6, 28, 16, 21, 3)\n",
    "\n",
    "STARTTIME = ORIGIN_TIME - 150\n",
    "ENDTIME = UTCDateTime(2016, 6, 28, 16, 26, 6) + 150\n",
    "\n",
    "# Set up folder structure\n",
    "main_folder = os.path.join(os.getcwd(), RUN_NAME)\n",
    "if not os.path.exists(main_folder):\n",
    "    os.mkdir(main_folder)"
   ]
  },
  {
   "cell_type": "markdown",
   "metadata": {},
   "source": [
    "### Gather inversion waveforms"
   ]
  },
  {
   "cell_type": "code",
   "execution_count": null,
   "metadata": {
    "scrolled": false
   },
   "outputs": [],
   "source": [
    "data_filename = os.path.join(main_folder, 'data.pkl')\n",
    "\n",
    "# Download data if it doesn't exist as a file\n",
    "if not os.path.exists(data_filename):\n",
    "\n",
    "    client = Client('IRIS')\n",
    "    waveform_kwargs = dict(\n",
    "        location='', starttime=STARTTIME, endtime=ENDTIME, attach_response=True\n",
    "    )\n",
    "\n",
    "    # Gather waveforms\n",
    "    NETWORKS = ('AK', 'AT', 'CN', 'TA')\n",
    "    STATIONS = ('SKAG', 'BESE', 'P30M', 'JIS', 'PNL', 'YKU2', 'PLBC', 'SIT')\n",
    "    st = client.get_waveforms(\n",
    "        network=','.join(NETWORKS),\n",
    "        station=','.join(STATIONS),\n",
    "        channel='BH?,HH?',\n",
    "        **waveform_kwargs,\n",
    "    )\n",
    "\n",
    "    # Grab coordinates\n",
    "    inv = client.get_stations(\n",
    "        network=','.join(NETWORKS),\n",
    "        starttime=STARTTIME,\n",
    "        endtime=ENDTIME,\n",
    "        level='channel',\n",
    "    )\n",
    "\n",
    "    # Assign coordinates to Traces\n",
    "    for tr in st:\n",
    "        coords = inv.get_coordinates(tr.id, datetime=STARTTIME)\n",
    "        tr.stats.latitude = coords['latitude']\n",
    "        tr.stats.longitude = coords['longitude']\n",
    "\n",
    "    st.write(data_filename, format='PICKLE')\n",
    "\n",
    "# Use file if it exists, for speed\n",
    "else:\n",
    "    st = read(data_filename, format='PICKLE')\n",
    "\n",
    "# Create LSData object\n",
    "data = LSData(st, source_lat=LS_LAT, source_lon=LS_LON)\n",
    "\n",
    "# Remove some noisy horizontals\n",
    "for station in 'BESE', 'PNL', 'YKU2':\n",
    "    for tr in data.st_proc.select(station=station, component='[RT]'):\n",
    "        data.st_proc.remove(tr)\n",
    "\n",
    "# Radial component of SKAG has poor fit...\n",
    "for tr in data.st_proc.select(station='SKAG', component='R'):\n",
    "    data.st_proc.remove(tr)\n",
    "\n",
    "# Create plots\n",
    "data.plot_stations(label_stations=True, gshhs_scale='h');\n",
    "data.plot_data(period_range=PERIOD_RANGE);"
   ]
  },
  {
   "cell_type": "markdown",
   "metadata": {},
   "source": [
    "### Gather reference waveform"
   ]
  },
  {
   "cell_type": "code",
   "execution_count": null,
   "metadata": {},
   "outputs": [],
   "source": [
    "SEISMIC_VELO = 2  # [km/s] For travel time removal\n",
    "\n",
    "client = Client('IRIS')\n",
    "\n",
    "# Gather\n",
    "st_hf = client.get_waveforms(\n",
    "    network='CN',\n",
    "    station='PLBC',\n",
    "    location='',\n",
    "    channel='HHZ',\n",
    "    starttime=STARTTIME,\n",
    "    endtime=ENDTIME,\n",
    "    attach_response=True,\n",
    ")\n",
    "\n",
    "# Processing\n",
    "st_hf.remove_response()\n",
    "st_hf.detrend('demean')\n",
    "st_hf.taper(max_percentage=0.05)\n",
    "st_hf.filter('bandpass', freqmin=0.5, freqmax=5)\n",
    "\n",
    "# Add \"distance\" to tr.stats\n",
    "ref_inv = client.get_stations(\n",
    "    network=st_hf[0].stats.network,\n",
    "    station=st_hf[0].stats.station,\n",
    "    starttime=STARTTIME,\n",
    "    endtime=ENDTIME,\n",
    "    level='channel',\n",
    ")\n",
    "for tr in st_hf:\n",
    "    coords = ref_inv.get_coordinates(tr.id, datetime=STARTTIME)\n",
    "    tr.stats.latitude = coords['latitude']\n",
    "    tr.stats.longitude = coords['longitude']\n",
    "    dist = gps2dist_azimuth(LS_LAT, LS_LON, tr.stats.latitude, tr.stats.longitude)[0]\n",
    "    tr.stats.distance = dist / 1000  # [km]\n",
    "\n",
    "# Approximate correction for travel time\n",
    "hf_shift = st_hf[0].stats.distance / SEISMIC_VELO"
   ]
  },
  {
   "cell_type": "markdown",
   "metadata": {},
   "source": [
    "### Setup"
   ]
  },
  {
   "cell_type": "code",
   "execution_count": null,
   "metadata": {},
   "outputs": [],
   "source": [
    "force = LSForce(data=data, data_sampling_rate=1, main_folder=main_folder)\n",
    "\n",
    "force.setup(\n",
    "    period_range=PERIOD_RANGE,\n",
    "    zerophase=True,\n",
    "    syngine_model='iasp91_2s',\n",
    "    weights='prenoise',\n",
    "    noise_window_dur=150,\n",
    ")"
   ]
  },
  {
   "cell_type": "markdown",
   "metadata": {},
   "source": [
    "### Invert"
   ]
  },
  {
   "cell_type": "code",
   "execution_count": null,
   "metadata": {},
   "outputs": [],
   "source": [
    "force.invert(\n",
    "    zero_time=132,\n",
    "    impose_zero_start=True,\n",
    "    add_to_zero=True,\n",
    "    jackknife=True,\n",
    "    num_iter=20,\n",
    "    frac_delete=0.25,\n",
    "    alpha=1.9e-16,\n",
    "    zero_scaler=2,\n",
    "    tikhonov_ratios=(0, 0, 1),\n",
    ")"
   ]
  },
  {
   "cell_type": "markdown",
   "metadata": {},
   "source": [
    "### Plot inversion"
   ]
  },
  {
   "cell_type": "code",
   "execution_count": null,
   "metadata": {
    "scrolled": false
   },
   "outputs": [],
   "source": [
    "XLIM = (-20, 100)  # [s] x-axis (time) limits for plots\n",
    "\n",
    "force.plot_fits(xlim=(-50, 200), equal_scale=False);\n",
    "force.plot_forces(highf_tr=st_hf[0], hfshift=hf_shift, jackshowall=True, xlim=XLIM);\n",
    "force.plot_angle_magnitude(xlim=XLIM);"
   ]
  },
  {
   "cell_type": "markdown",
   "metadata": {},
   "source": [
    "### Compute trajectory"
   ]
  },
  {
   "cell_type": "code",
   "execution_count": null,
   "metadata": {},
   "outputs": [],
   "source": [
    "L = 7  # [km] Estimate of horizontal COM runout length\n",
    "DURATION = 100  # [s] Duration to use for trajectory integration\n",
    "\n",
    "trajectory = LSTrajectory(force, target_length=L, duration=DURATION, detrend_velocity=DURATION)"
   ]
  },
  {
   "cell_type": "markdown",
   "metadata": {},
   "source": [
    "### Plot trajectory"
   ]
  },
  {
   "cell_type": "code",
   "execution_count": null,
   "metadata": {},
   "outputs": [],
   "source": [
    "trajectory.plot_trajectory(plot_jackknife=True);  # Horizontal trajectory\n",
    "trajectory.plot_trajectory(plot_jackknife=True, elevation_profile=True);  # Vertical trajectory"
   ]
  }
 ],
 "metadata": {
  "kernelspec": {
   "display_name": "Python 3",
   "language": "python",
   "name": "python3"
  },
  "language_info": {
   "codemirror_mode": {
    "name": "ipython",
    "version": 3
   },
   "file_extension": ".py",
   "mimetype": "text/x-python",
   "name": "python",
   "nbconvert_exporter": "python",
   "pygments_lexer": "ipython3",
   "version": "3.7.8"
  }
 },
 "nbformat": 4,
 "nbformat_minor": 4
}
