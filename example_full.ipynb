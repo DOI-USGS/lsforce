{
 "cells": [
  {
   "cell_type": "markdown",
   "metadata": {},
   "source": [
    "# *lsforce* example script: Full parameterization\n",
    "---\n",
    "\n",
    "This example script produces the force-time function and associated trajectory for a very large ice–rock avalanche occurring on Iliamna Volcano, Alaska, USA, on 22 May 2016 (Toney et al., in review). Here, we use the \"full\" model vector parameterization method, which imposes no constraints on the form of the force-time function. This example demonstrates how to use the built-in jackknife method to assess inversion stability under changing input data.\n",
    "\n",
    "**References**\n",
    "\n",
    "Toney, L., Fee, D., Allstadt, K. E., Haney, M., & Matoza, R. S. (in review). Reconstructing the dynamics of the highly-similar May 2016 and June 2019 Iliamna Volcano, Alaska ice–rock avalanches from seismoacoustic data. *Earth Surface Dynamics Discussions*, 1–32. https://doi.org/10.5194/esurf-2020-47"
   ]
  },
  {
   "cell_type": "markdown",
   "metadata": {},
   "source": [
    "### Import necessary modules"
   ]
  },
  {
   "cell_type": "code",
   "execution_count": null,
   "metadata": {
    "pycharm": {
     "name": "#%%\n"
    }
   },
   "outputs": [],
   "source": [
    "import os\n",
    "\n",
    "from obspy import UTCDateTime, read\n",
    "from obspy.clients.fdsn import Client\n",
    "from obspy.geodetics import gps2dist_azimuth\n",
    "\n",
    "from lsforce import LSData, LSForce, LSTrajectory\n",
    "\n",
    "# Ignore benign Matplotlib backend warning due to fig.show()\n",
    "import warnings\n",
    "warnings.filterwarnings(action='ignore', message='Matplotlib is currently using module')"
   ]
  },
  {
   "cell_type": "markdown",
   "metadata": {},
   "source": [
    "### Define some constants, set up folder structure"
   ]
  },
  {
   "cell_type": "code",
   "execution_count": null,
   "metadata": {
    "pycharm": {
     "name": "#%%\n"
    }
   },
   "outputs": [],
   "source": [
    "# Arbitrary run directory\n",
    "LSFORCE_RUN_DIR = os.getcwd()\n",
    "\n",
    "RUN_NAME = 'iliamna_2016_paper'  # Nickname for this run\n",
    "\n",
    "PERIOD_RANGE = (15, 80)  # [s] Bandpass filter corners\n",
    "\n",
    "LS_LAT, LS_LON = (60.0273, -153.0683)  # Where the point force will be applied\n",
    "ORIGIN_TIME = UTCDateTime(2016, 5, 22, 7, 57, 34)\n",
    "\n",
    "STARTTIME = ORIGIN_TIME - 100\n",
    "ENDTIME = ORIGIN_TIME + 300\n",
    "\n",
    "# Set up folder structure\n",
    "main_folder = os.path.join(LSFORCE_RUN_DIR, RUN_NAME)\n",
    "if not os.path.exists(main_folder):\n",
    "    os.mkdir(main_folder)"
   ]
  },
  {
   "cell_type": "markdown",
   "metadata": {},
   "source": [
    "### Gather inversion waveforms"
   ]
  },
  {
   "cell_type": "code",
   "execution_count": null,
   "metadata": {
    "pycharm": {
     "name": "#%%\n"
    },
    "scrolled": false
   },
   "outputs": [],
   "source": [
    "TONEY_ET_AL_NUM_CHANS = 32  # Number of channels used in paper's 2016 Iliamna inversion\n",
    "\n",
    "data_filename = os.path.join(main_folder, 'data.pkl')\n",
    "\n",
    "# Download data if it doesn't exist as a file\n",
    "if not os.path.exists(data_filename):\n",
    "\n",
    "    client = Client('IRIS')\n",
    "    waveform_kwargs = dict(\n",
    "        location='*', starttime=STARTTIME, endtime=ENDTIME, attach_response=True\n",
    "    )\n",
    "\n",
    "    # Gather vertical components (most of the waveforms!)\n",
    "    NETWORKS = (\n",
    "        'AK',\n",
    "        'AT',\n",
    "        'AV',\n",
    "        'TA',\n",
    "        'ZE',\n",
    "    )\n",
    "    STATIONS = (\n",
    "        'KALN',\n",
    "        'HOM',\n",
    "        'HLC5',\n",
    "        'CLAM',\n",
    "        'SALA',\n",
    "        'LTUY',\n",
    "        'N19K',\n",
    "        'CNP',\n",
    "        'NSKI',\n",
    "        'LTUX',\n",
    "        'BRLK',\n",
    "        'Q19K',\n",
    "        'LTUW',\n",
    "        'BRSE',\n",
    "        'WFLS',\n",
    "        'P18K',\n",
    "        'BING',\n",
    "        'CONG',\n",
    "        'WFLW',\n",
    "        'MPEN',\n",
    "        'BULG',\n",
    "        'SLK',\n",
    "        'N18K',\n",
    "        'JOES',\n",
    "        'SVW2',\n",
    "        'JUDD',\n",
    "        'O22K',\n",
    "        'FIRE',\n",
    "    )\n",
    "    st = client.get_waveforms(\n",
    "        network=','.join(NETWORKS),\n",
    "        station=','.join(STATIONS),\n",
    "        channel='BHZ,HHZ',\n",
    "        **waveform_kwargs,\n",
    "    )\n",
    "\n",
    "    # Gather horizontals (only a few)\n",
    "    st += client.get_waveforms(\n",
    "        network='TA', station='N19K', channel='BHE,BHN', **waveform_kwargs\n",
    "    )\n",
    "    st += client.get_waveforms(\n",
    "        network='ZE', station='WFLW', channel='HHE,HHN', **waveform_kwargs\n",
    "    )\n",
    "\n",
    "    # Grab coordinates\n",
    "    inv = client.get_stations(\n",
    "        network=','.join(NETWORKS),\n",
    "        starttime=STARTTIME,\n",
    "        endtime=ENDTIME,\n",
    "        level='channel',\n",
    "    )\n",
    "\n",
    "    # Assign coordinates to Traces\n",
    "    for tr in st:\n",
    "        coords = inv.get_coordinates(tr.id, datetime=STARTTIME)\n",
    "        tr.stats.latitude = coords['latitude']\n",
    "        tr.stats.longitude = coords['longitude']\n",
    "\n",
    "    st.write(data_filename, format='PICKLE')\n",
    "\n",
    "# Use file if it exists, for speed\n",
    "else:\n",
    "    st = read(data_filename, format='PICKLE')\n",
    "\n",
    "# Verify that the correct number of channels has been retrieved from IRIS\n",
    "assert st.count() == TONEY_ET_AL_NUM_CHANS, 'Not the correct number of channels.'\n",
    "\n",
    "# Create LSData object\n",
    "data = LSData(st, source_lat=LS_LAT, source_lon=LS_LON)\n",
    "\n",
    "# Create plots\n",
    "data.plot_stations(label_stations=True);\n",
    "data.plot_data(equal_scale=False, period_range=PERIOD_RANGE);"
   ]
  },
  {
   "cell_type": "markdown",
   "metadata": {},
   "source": [
    "### Gather reference waveforms"
   ]
  },
  {
   "cell_type": "code",
   "execution_count": null,
   "metadata": {
    "pycharm": {
     "name": "#%%\n"
    }
   },
   "outputs": [],
   "source": [
    "RAYLEIGH_VELO = 0.9  # [km/s] Surface-wave group velocity @ 1 Hz\n",
    "INFRA_VELO = 0.337  # [km/s] Reasonable given air temp of 50 degrees F\n",
    "\n",
    "client = Client('IRIS')\n",
    "\n",
    "# Gather seismic\n",
    "st_hf = client.get_waveforms(\n",
    "    network='AV',\n",
    "    station='ILSW',\n",
    "    location='--',\n",
    "    channel='BHZ',\n",
    "    starttime=STARTTIME,\n",
    "    endtime=ENDTIME,\n",
    "    attach_response=True,\n",
    ")\n",
    "# Gather infrasound\n",
    "st_infra = client.get_waveforms(\n",
    "    network='TA',\n",
    "    station='O20K',\n",
    "    location='*',\n",
    "    channel='BDF',\n",
    "    starttime=STARTTIME,\n",
    "    endtime=ENDTIME,\n",
    "    attach_response=True,\n",
    ")\n",
    "\n",
    "# Combined processing\n",
    "(st_hf + st_infra).remove_response()\n",
    "(st_hf + st_infra).detrend('demean')\n",
    "(st_hf + st_infra).taper(max_percentage=0.05)\n",
    "\n",
    "# Separate filtering\n",
    "st_hf.filter('bandpass', freqmin=0.5, freqmax=5)\n",
    "st_infra.filter('bandpass', freqmin=0.5, freqmax=10)\n",
    "\n",
    "# Add \"distance\" to tr.stats\n",
    "ref_inv = client.get_stations(\n",
    "    network='AV,TA',\n",
    "    station='ILSW,O20K',\n",
    "    starttime=STARTTIME,\n",
    "    endtime=ENDTIME,\n",
    "    level='channel',\n",
    ")\n",
    "\n",
    "for tr in st_hf + st_infra:\n",
    "    coords = ref_inv.get_coordinates(tr.id, datetime=STARTTIME)\n",
    "    tr.stats.latitude = coords['latitude']\n",
    "    tr.stats.longitude = coords['longitude']\n",
    "    dist = gps2dist_azimuth(LS_LAT, LS_LON, tr.stats.latitude, tr.stats.longitude)[0]\n",
    "    tr.stats.distance = dist / 1000  # [km]\n",
    "\n",
    "# Approximate correction for travel time\n",
    "hf_shift = st_hf[0].stats.distance / RAYLEIGH_VELO\n",
    "infra_shift = st_infra[0].stats.distance / INFRA_VELO"
   ]
  },
  {
   "cell_type": "markdown",
   "metadata": {},
   "source": [
    "### Setup"
   ]
  },
  {
   "cell_type": "code",
   "execution_count": null,
   "metadata": {
    "pycharm": {
     "name": "#%%\n"
    }
   },
   "outputs": [],
   "source": [
    "force = LSForce(\n",
    "    data=data, data_sampling_rate=1, nickname=RUN_NAME, main_folder=main_folder\n",
    ")\n",
    "\n",
    "force.setup(period_range=PERIOD_RANGE, zerophase=True, syngine_model='iasp91_2s')"
   ]
  },
  {
   "cell_type": "markdown",
   "metadata": {},
   "source": [
    "### Invert"
   ]
  },
  {
   "cell_type": "code",
   "execution_count": null,
   "metadata": {
    "pycharm": {
     "name": "#%%\n"
    }
   },
   "outputs": [],
   "source": [
    "force.invert(\n",
    "    zero_time=119,\n",
    "    impose_zero=True,\n",
    "    add_to_zero=True,\n",
    "    jackknife=True,\n",
    "    num_iter=20,\n",
    "    frac_delete=0.3,\n",
    "    alphaset=4.8e-17,\n",
    "    zero_scaler=2,\n",
    "    tikhonov_ratios=[0.4, 0.0, 0.6],\n",
    ")"
   ]
  },
  {
   "cell_type": "markdown",
   "metadata": {},
   "source": [
    "### Plot inversion"
   ]
  },
  {
   "cell_type": "code",
   "execution_count": null,
   "metadata": {
    "pycharm": {
     "name": "#%%\n"
    },
    "scrolled": false
   },
   "outputs": [],
   "source": [
    "XLIM = (-50, 200)  # [s] x-axis (time) limits for plots\n",
    "\n",
    "# Plot inversion waveform fits and results\n",
    "force.plot_fits();\n",
    "force.plot_forces(\n",
    "    highf_tr=st_hf[0],\n",
    "    hfshift=hf_shift,\n",
    "    infra_tr=st_infra[0],\n",
    "    infra_shift=infra_shift,\n",
    "    jackshowall=True,\n",
    "    xlim=XLIM,\n",
    "    subplots=True,\n",
    ");\n",
    "force.plot_angle_magnitude(xlim=XLIM);"
   ]
  },
  {
   "cell_type": "markdown",
   "metadata": {},
   "source": [
    "### Compute trajectory"
   ]
  },
  {
   "cell_type": "code",
   "execution_count": null,
   "metadata": {
    "pycharm": {
     "name": "#%%\n"
    }
   },
   "outputs": [],
   "source": [
    "L = 5.8  # [km] Estimate of horizontal COM runout length\n",
    "\n",
    "trajectory = LSTrajectory(\n",
    "    force, target_length=L, duration=XLIM[1], detrend_velocity=XLIM[1]\n",
    ")"
   ]
  },
  {
   "cell_type": "markdown",
   "metadata": {},
   "source": [
    "### Plot trajectory"
   ]
  },
  {
   "cell_type": "code",
   "execution_count": null,
   "metadata": {
    "pycharm": {
     "name": "#%%\n"
    }
   },
   "outputs": [],
   "source": [
    "trajectory.plot_trajectory(plot_jackknife=True);\n",
    "trajectory.plot_trajectory(plot_jackknife=True, elevation_profile=True);"
   ]
  }
 ],
 "metadata": {
  "kernelspec": {
   "display_name": "Python 3",
   "language": "python",
   "name": "python3"
  },
  "language_info": {
   "codemirror_mode": {
    "name": "ipython",
    "version": 3
   },
   "file_extension": ".py",
   "mimetype": "text/x-python",
   "name": "python",
   "nbconvert_exporter": "python",
   "pygments_lexer": "ipython3",
   "version": "3.8.3"
  }
 },
 "nbformat": 4,
 "nbformat_minor": 1
}
